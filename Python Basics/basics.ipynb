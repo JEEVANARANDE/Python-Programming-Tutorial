{
  "nbformat": 4,
  "nbformat_minor": 0,
  "metadata": {
    "colab": {
      "name": "basics.ipynb",
      "provenance": []
    },
    "kernelspec": {
      "name": "python3",
      "display_name": "Python 3"
    }
  },
  "cells": [
    {
      "cell_type": "markdown",
      "metadata": {
        "id": "2CJKzDdl65PI",
        "colab_type": "text"
      },
      "source": [
        "Print() Function"
      ]
    },
    {
      "cell_type": "code",
      "metadata": {
        "id": "sIIVWbk962oM",
        "colab_type": "code",
        "outputId": "41a61882-a235-451e-dafe-5fe5a4afab03",
        "colab": {
          "base_uri": "https://localhost:8080/",
          "height": 34
        }
      },
      "source": [
        "print(\"Welcome to Python Prgramming\") "
      ],
      "execution_count": 1,
      "outputs": [
        {
          "output_type": "stream",
          "text": [
            "Welcome to Python Prgramming\n"
          ],
          "name": "stdout"
        }
      ]
    },
    {
      "cell_type": "markdown",
      "metadata": {
        "id": "dOFZml4-8TZW",
        "colab_type": "text"
      },
      "source": [
        "Here in Python 3 to print something on the console, we use print() function. This function also adds a newline after our message is printed properly.Whereas in Python 2, “print” is not at all a function but a keyword and therefore can be used without parentheses. However, in Python 3, it is a function and must be invoked with parentheses allways."
      ]
    },
    {
      "cell_type": "markdown",
      "metadata": {
        "id": "XM4UQvtpV9q3",
        "colab_type": "text"
      },
      "source": [
        "Escape sequences"
      ]
    },
    {
      "cell_type": "code",
      "metadata": {
        "id": "E13nvUg4V7qx",
        "colab_type": "code",
        "colab": {
          "base_uri": "https://localhost:8080/",
          "height": 51
        },
        "outputId": "18893cd1-4ebc-4c96-c449-49d55bc3466a"
      },
      "source": [
        "print('Hello \\'world\\' world')\n",
        "print('I\\'m Jeevan')"
      ],
      "execution_count": 3,
      "outputs": [
        {
          "output_type": "stream",
          "text": [
            "Hello 'world' world\n",
            "I'm Jeevan\n"
          ],
          "name": "stdout"
        }
      ]
    },
    {
      "cell_type": "code",
      "metadata": {
        "id": "oTAgQ1jtf4ba",
        "colab_type": "code",
        "colab": {
          "base_uri": "https://localhost:8080/",
          "height": 153
        },
        "outputId": "37c199c3-5666-489d-e0bb-68d210e6c7ed"
      },
      "source": [
        "print('First Name\\nMiddle Name \\nLast Name')\n",
        "print('First Name\\tJeevan')\n",
        "print('Middle Name\\tShriram')\n",
        "print('Last Name\\tArande')\n",
        "print('this is a double backslash\\\\\\\\')\n",
        "print('hell\\blo')"
      ],
      "execution_count": 10,
      "outputs": [
        {
          "output_type": "stream",
          "text": [
            "First Name\n",
            "Middle Name \n",
            "Last Name\n",
            "First Name\tJeevan\n",
            "Middle Name\tShriram\n",
            "Last Name\tArande\n",
            "this is a double backslash\\\\\n",
            "hell\blo\n"
          ],
          "name": "stdout"
        }
      ]
    }
  ]
}