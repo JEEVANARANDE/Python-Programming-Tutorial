{
  "nbformat": 4,
  "nbformat_minor": 0,
  "metadata": {
    "colab": {
      "name": "basics.ipynb",
      "provenance": []
    },
    "kernelspec": {
      "name": "python3",
      "display_name": "Python 3"
    }
  },
  "cells": [
    {
      "cell_type": "markdown",
      "metadata": {
        "id": "2CJKzDdl65PI",
        "colab_type": "text"
      },
      "source": [
        "Print() Function"
      ]
    },
    {
      "cell_type": "code",
      "metadata": {
        "id": "sIIVWbk962oM",
        "colab_type": "code",
        "colab": {
          "base_uri": "https://localhost:8080/",
          "height": 34
        },
        "outputId": "20f63aba-023e-40ce-ac16-d7d468bba7a3"
      },
      "source": [
        "print(\"Welcome to Python Prgramming\") "
      ],
      "execution_count": 1,
      "outputs": [
        {
          "output_type": "stream",
          "text": [
            "Welcome to Python Prgramming\n"
          ],
          "name": "stdout"
        }
      ]
    },
    {
      "cell_type": "markdown",
      "metadata": {
        "id": "dOFZml4-8TZW",
        "colab_type": "text"
      },
      "source": [
        "Here in Python 3 to print something on the console, we use print() function. This function also adds a newline after our message is printed properly.Whereas in Python 2, “print” is not at all a function but a keyword and therefore can be used without parentheses. However, in Python 3, it is a function and must be invoked with parentheses allways."
      ]
    }
  ]
}